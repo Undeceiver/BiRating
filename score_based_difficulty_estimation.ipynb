{
 "cells": [
  {
   "cell_type": "code",
   "execution_count": 62,
   "id": "53293fa3",
   "metadata": {},
   "outputs": [],
   "source": [
    "import copy\n",
    "import json\n",
    "import math\n",
    "import scipy\n",
    "import statistics\n",
    "import random\n",
    "import sklearn.model_selection"
   ]
  },
  {
   "cell_type": "code",
   "execution_count": 2,
   "id": "5e125001",
   "metadata": {},
   "outputs": [],
   "source": [
    "ranked_data_path = f\"bigresponse.json\"\n",
    "ranked_data_file = open(ranked_data_path,encoding=\"utf-8\")\n",
    "ranked_data = json.load(ranked_data_file)"
   ]
  },
  {
   "cell_type": "code",
   "execution_count": 3,
   "id": "8d496ace",
   "metadata": {},
   "outputs": [],
   "source": [
    "players = ranked_data[\"players\"]\n",
    "maps = ranked_data[\"maps\"]\n",
    "scores = ranked_data[\"scores\"]\n",
    "filtered_scores = [score for score in scores if score[\"accuracy\"] < 100]"
   ]
  },
  {
   "cell_type": "code",
   "execution_count": 4,
   "id": "2b8009f3",
   "metadata": {},
   "outputs": [],
   "source": [
    "players_by_id = {player[\"id\"] : player for player in players}\n",
    "maps_by_id = {bmap[\"id\"] : bmap for bmap in maps}"
   ]
  },
  {
   "cell_type": "code",
   "execution_count": 5,
   "id": "69c304d4",
   "metadata": {},
   "outputs": [],
   "source": [
    "scores_by_player_id = {}\n",
    "scores_by_map_id = {}\n",
    "\n",
    "def add_score(score):\n",
    "    player_id = score[\"playerId\"]\n",
    "    map_id = score[\"leaderboardId\"]\n",
    "    \n",
    "    player_map = scores_by_player_id.get(player_id,{})\n",
    "    player_map[map_id] = score\n",
    "    \n",
    "    scores_by_player_id[player_id] = player_map\n",
    "    \n",
    "    map_map = scores_by_map_id.get(map_id,{})\n",
    "    map_map[player_id] = score\n",
    "    \n",
    "    scores_by_map_id[map_id] = map_map\n",
    "    \n",
    "#for score in scores:\n",
    "for score in filtered_scores:\n",
    "    add_score(score)"
   ]
  },
  {
   "cell_type": "code",
   "execution_count": 6,
   "id": "843cdef0",
   "metadata": {},
   "outputs": [],
   "source": [
    "modifiers = {\"SF\":1.2,\n",
    "             \"GN\":1,\n",
    "             \"SA\":1.05,\n",
    "             \"PM\":1,\n",
    "             \"IF\":1,\n",
    "             \"NO\":0.5,\n",
    "             \"BE\":1,\n",
    "             \"SS\":0.75,\n",
    "             \"FS\":1.05,\n",
    "             \"NB\":0.5,\n",
    "             \"SC\":1,\n",
    "             \"OD\":1,\n",
    "             \"DA\":1,\n",
    "             \"CS\":1,\n",
    "             \"NA\":0.5,\n",
    "             \"OP\":0.5}\n",
    "\"\"\"\n",
    "\"SF\" - Super Fast,\n",
    "\"GN\" - Ghost Notes,\n",
    "\"SA\" - Strict Angles,\n",
    "\"PM\" - Pro Mode,\n",
    "\"IF\" - 1 life,\n",
    "\"NO\" - No obstacles (no walls),\n",
    "\"BE\" - Battery Energy,\n",
    "\"SS\" - Slow song,\n",
    "\"FS\" - Fast song,\n",
    "\"NB\" - No bombs,\n",
    "\"SC\" - Small Notes,\n",
    "\"OD\" - Old Dots,\n",
    "\"DA\" - Disappearing Arrows,\n",
    "\"CS\" - ???,\n",
    "\"NA\" - No Arrows -50%,\n",
    "\"OP\" - Out of platform -50% \n",
    "\"\"\"\n",
    "\n",
    "def modified_score(score,score_modifiers):\n",
    "    final_score = score\n",
    "    for modifier,multiplier in modifiers.items():\n",
    "        if modifier in score_modifiers:\n",
    "            if multiplier > 1:\n",
    "                final_score = 1 - (1 - final_score)*(2 - multiplier)\n",
    "            else:\n",
    "                final_score = final_score * multiplier\n",
    "            \n",
    "    return final_score"
   ]
  },
  {
   "cell_type": "code",
   "execution_count": null,
   "id": "9fcf72db",
   "metadata": {},
   "outputs": [],
   "source": []
  },
  {
   "cell_type": "code",
   "execution_count": 7,
   "id": "0b3fc957",
   "metadata": {},
   "outputs": [],
   "source": [
    "\"\"\"\n",
    "This is a mapping on the probability space rather than the population space.\n",
    "That is, from (0,1) to (0,1). A probability distribution on the (0,1) interval.\n",
    "We can do this with the Beta distribution, though other distributions might work.\n",
    "\n",
    "I approximate a value for alpha and beta using this: https://homepage.divms.uiowa.edu/~mbognar/applets/beta.html\n",
    "Trying to get the median around 0.9 and the probability close to 0 for 0.5, but a little bit higher for 0.65ish.\n",
    "Beat Saber scores are typically at least 65%, on median probably around 0.9. They also must go down as the value\n",
    "approaches 1, so beta must be greater than 1.\n",
    "\n",
    "alpha = 10 and beta = 1.25 seemed to work quite well.\n",
    "\"\"\"\n",
    "beta_alpha = 10\n",
    "beta_beta = 1.25\n",
    "\n",
    "def beta_value(perc_value, beta_alpha=beta_alpha, beta_beta=beta_beta):\n",
    "    return scipy.stats.beta.cdf(perc_value, beta_alpha, beta_beta)\n",
    "\n",
    "def perc_beta_value(beta_value,beta_alpha=beta_alpha, beta_beta=beta_beta):\n",
    "    return scipy.stats.beta.ppf(beta_value, beta_alpha, beta_beta)\n",
    "\n",
    "\"\"\"\n",
    "After renormalizing with the beta distribution, we apply the probit value, which assumes it's centred around 0.5.\n",
    "\n",
    "We renormalize this to a value that is more typical of what we usually understand in Beat Saber.\n",
    "For example, similar to star values. This is not really meant to be accurate, though.\n",
    "\"\"\"\n",
    "\n",
    "probit_mean = 7\n",
    "probit_sd = 3\n",
    "\n",
    "def probit_value(perc_value, probit_mean=probit_mean, probit_sd = probit_sd):\n",
    "    return scipy.stats.norm.ppf(beta_value(perc_value),loc=probit_mean,scale=probit_sd)\n",
    "\n",
    "def perc_probit_value(probit_value, probit_mean=probit_mean, probit_sd = probit_sd):\n",
    "    return perc_beta_value(scipy.stats.norm.cdf(probit_value,loc=probit_mean,scale=probit_sd))"
   ]
  },
  {
   "cell_type": "code",
   "execution_count": 11,
   "id": "81d98c9b",
   "metadata": {},
   "outputs": [],
   "source": [
    "\"\"\"\n",
    "We take the beta renormalization of probabilities above, and instead of using a probit function,\n",
    "we map it to (0,inf) using a lognorm distribution.\n",
    "\n",
    "There isn't a strong justification for this (other than the support), but there are some arguments.\n",
    "What we want is to transform the probabilities into positive values that we can then multiply and divide in a way\n",
    "that behaves well. Multiplying two values in the lognorm support produces a new lognorm value that is\n",
    "the result of combining the other two in an independent way.\n",
    "The shape of the lognorm also matches the way that we expect these values to look.\n",
    "\"\"\"\n",
    "\n",
    "# This parameterization is NOT a mistake. Read up on lognorm parameters and try to figure out why I did this.\n",
    "# It isn't something terribly meaningful.\n",
    "#lognorm_mean = 7\n",
    "lognorm_mean = 10\n",
    "#lognorm_sd = 7\n",
    "lognorm_sd = 10\n",
    "log_lognorm_sd = math.log(math.log(lognorm_sd))\n",
    "\n",
    "def lognorm_value(perc_value, lognorm_mean=lognorm_mean, lognorm_sd=lognorm_sd, log_lognorm_sd=log_lognorm_sd):\n",
    "    return scipy.stats.lognorm.ppf(beta_value(perc_value),s=log_lognorm_sd,loc=0,scale=lognorm_mean)\n",
    "\n",
    "def perc_lognorm_value(lognorm_value, lognorm_mean=lognorm_mean, lognorm_sd=lognorm_sd, log_lognorm_sd=log_lognorm_sd):\n",
    "    return perc_beta_value(scipy.stats.lognorm.cdf(lognorm_value,s=log_lognorm_sd,loc=0,scale=lognorm_mean))"
   ]
  },
  {
   "cell_type": "code",
   "execution_count": 12,
   "id": "357c7f8e",
   "metadata": {},
   "outputs": [],
   "source": [
    "\"\"\"\n",
    "Very similar idea to the above, but with a maximum value.\n",
    "\n",
    "There are some issues with this, like that a 100% score could lower a player's skill level\n",
    "if it is on a very easy map. But this is very unlikely with the numbers, and 100% scores\n",
    "are exceedingly rare anyway. There are also ways to deal with that later after estimating\n",
    "difficulties.\n",
    "\"\"\"\n",
    "\n",
    "# truncexp_max = 25\n",
    "truncexp_max = 100\n",
    "# truncexp_base_mean = 7\n",
    "truncexp_base_mean = 10\n",
    "\n",
    "def truncexp_value(perc_value,base_mean=truncexp_base_mean):\n",
    "    return scipy.stats.truncexpon.ppf(beta_value(perc_value),b=truncexp_max,scale=base_mean)\n",
    "\n",
    "def perc_truncexp_value(truncexp_value,base_mean=truncexp_base_mean):\n",
    "    return perc_beta_value(scipy.stats.truncexpon.cdf(truncexp_value,b=truncexp_max,scale=base_mean))"
   ]
  },
  {
   "cell_type": "code",
   "execution_count": 13,
   "id": "960238b1",
   "metadata": {},
   "outputs": [],
   "source": [
    "\"\"\"\n",
    "We normalize around a value of 7.\n",
    "This means that a X star player on a 7 accability map achieves an X star score\n",
    "and a 7 star player on an X accability map achieves an X star score.\n",
    "\"\"\"\n",
    "\n",
    "#linear_mean = 7\n",
    "linear_mean = 10\n",
    "\n",
    "def score_linear(skill,accability,linear_mean = linear_mean):\n",
    "    return skill * accability / linear_mean\n",
    "\n",
    "def accability_linear(skill,score,linear_mean = linear_mean):\n",
    "    return score / skill * linear_mean\n",
    "\n",
    "def skill_linear(accability,score,linear_mean = linear_mean):\n",
    "    return score / accability * linear_mean"
   ]
  },
  {
   "cell_type": "code",
   "execution_count": 14,
   "id": "7509b56d",
   "metadata": {},
   "outputs": [],
   "source": [
    "def abs_prop_error(value,evalue):        \n",
    "    return abs((value-evalue)/evalue)"
   ]
  },
  {
   "cell_type": "code",
   "execution_count": 15,
   "id": "85c388db",
   "metadata": {},
   "outputs": [],
   "source": [
    "\"\"\"\n",
    "Let's start with something simple: Just use the median instead of the average.\n",
    "\"\"\"\n",
    "\n",
    "def aggregation_median(scores,default_value=1):\n",
    "    if scores == []:\n",
    "        return default_value\n",
    "    else:\n",
    "        return statistics.median(scores)\n",
    "    \n",
    "def aggregation_median_f(default_value):\n",
    "    def f(scores):\n",
    "        return aggregation_median(scores,default_value)\n",
    "    \n",
    "    return f"
   ]
  },
  {
   "cell_type": "code",
   "execution_count": 16,
   "id": "d56f190e",
   "metadata": {},
   "outputs": [],
   "source": [
    "\"\"\"\n",
    "Do the average of the top percentage of scores.\n",
    "\"\"\"\n",
    "def aggregation_topscores(scores,perc=0.25,default_value=1):\n",
    "    scores.sort()\n",
    "    l = len(scores)\n",
    "    n = math.floor(l*perc)\n",
    "    \n",
    "    if n == 0:\n",
    "        return default_value\n",
    "    else:\n",
    "        return statistics.mean(scores[l-n:])\n",
    "    \n",
    "def aggregation_topscores_f(perc,default_value):\n",
    "    def f(scores):\n",
    "        return aggregation_topscores(scores,perc,default_value)\n",
    "    \n",
    "    return f"
   ]
  },
  {
   "cell_type": "code",
   "execution_count": 17,
   "id": "14088832",
   "metadata": {},
   "outputs": [],
   "source": [
    "\"\"\"\n",
    "Do the average of the bottom percentage of scores.\n",
    "\"\"\"\n",
    "def aggregation_bottomscores(scores,perc=0.25,default_value=1):\n",
    "    scores.sort()\n",
    "    l = len(scores)\n",
    "    n = math.floor(l*perc)\n",
    "    \n",
    "    if n == 0:\n",
    "        return default_value\n",
    "    else:\n",
    "        return statistics.mean(scores[0:n])\n",
    "    \n",
    "def aggregation_bottomscores_f(perc,default_value):\n",
    "    def f(scores):\n",
    "        return aggregation_bottomscores(scores,perc,default_value)\n",
    "    \n",
    "    return f"
   ]
  },
  {
   "cell_type": "code",
   "execution_count": 73,
   "id": "903f8e51",
   "metadata": {},
   "outputs": [],
   "source": [
    "class BiPartiteStabilizer:\n",
    "    \"\"\"No description yet\"\"\"\n",
    "    \n",
    "    def __init__(self,\n",
    "                 anodes_ratings,bnodes_ratings,\n",
    "                 wdata,afun,bfun,wfun,\n",
    "                 aggregation_fun=aggregation_median,\n",
    "                 default_rating=1,\n",
    "                 max_iter=50,\n",
    "                 error_fun=abs_prop_error,\n",
    "                 error_aggregation_fun=aggregation_bottomscores,\n",
    "                 finish_early=True,\n",
    "                 error_change_prop=0.001):\n",
    "        \"\"\"\n",
    "        anodes_ratings and bnodes_ratings must be dictionaries with the node identifiers as keys\n",
    "        and initial ratings as values.\n",
    "        \n",
    "        wdata must be a doubly indexed dictionary with anode identifiers and bnode identifiers as respective indexes,\n",
    "        respectively, and weights as values.\n",
    "        \n",
    "        afun and bfun must be functions taking a value of the other node type as first argument\n",
    "        and a weight as the second argument, that returns the corresponding value for the node.\n",
    "        \n",
    "        Similarly, wfun must be a function that takes the value of an anode and bnode and returns the\n",
    "        correct weight.\n",
    "        \n",
    "        These functions must be such that:\n",
    "        - wfun(afun(b,w),b) = w\n",
    "        - wfun(a,bfun(a,w)) = w\n",
    "        - afun(bfun(a,w),w) = a\n",
    "        - afun(b,wfun(a,b)) = a\n",
    "        - bfun(afun(b,w),w) = b\n",
    "        - bfun(a,wfun(a,b)) = b\n",
    "        \n",
    "        error_fun must take two parameters (actual value, expected value) and return a number indicating the error for that\n",
    "        particular edge\n",
    "        \"\"\"\n",
    "        self.anodes_ratings = anodes_ratings\n",
    "        self.bnodes_ratings = bnodes_ratings\n",
    "        \n",
    "        self.adata = wdata\n",
    "        self.bdata = self.process_bdata(wdata)\n",
    "        \n",
    "        self.afun = afun\n",
    "        self.bfun = bfun\n",
    "        self.wfun = wfun\n",
    "        \n",
    "        self.aggregation_fun = aggregation_fun\n",
    "        \n",
    "        self.error_fun = error_fun\n",
    "        self.error_aggregation_fun = error_aggregation_fun\n",
    "        \n",
    "        self.default_rating = default_rating\n",
    "        \n",
    "        self.average_error = math.inf\n",
    "        \n",
    "        self.iter = 0\n",
    "        self.max_iter = max_iter\n",
    "        \n",
    "        # Finish early when error increases\n",
    "        self.finish_early = finish_early\n",
    "        self.last_average_error = math.inf\n",
    "        self.last_anodes_ratings = anodes_ratings\n",
    "        self.last_bnodes_ratings = bnodes_ratings       \n",
    "    \n",
    "        self.error_change_prop = error_change_prop\n",
    "    \n",
    "    def process_bdata(self, wdata):\n",
    "        bdata = {}\n",
    "        \n",
    "        for anode_id, anode_data in wdata.items():\n",
    "            for bnode_id, w in anode_data.items():\n",
    "                bnode_data = bdata.get(bnode_id,{})\n",
    "                bnode_data[anode_id] = w\n",
    "                bdata[bnode_id] = bnode_data\n",
    "        \n",
    "        return bdata       \n",
    "        \n",
    "    def acycle(self):\n",
    "        calc_values = []\n",
    "        for anode_id in self.anodes_ratings:\n",
    "            if anode_id in self.adata:\n",
    "                calc_values.append(self.anode_process(anode_id))\n",
    "            \n",
    "        self.average_error = self.error_aggregation_fun(calc_values)\n",
    "    \n",
    "    def anode_process(self,anode_id):\n",
    "        anode_data = self.adata.get(anode_id,False)\n",
    "                \n",
    "        calc_values = []\n",
    "        for bnode_id, w in anode_data.items():\n",
    "            bnode_value = self.bnodes_ratings.get(bnode_id,self.default_rating)\n",
    "            # asum += clamp(self.afun(bnode_value,w))\n",
    "            # asum += self.afun(bnode_value,w)\n",
    "            calc_values.append(self.afun(bnode_value,w))\n",
    "        \n",
    "        avg = self.aggregation_fun(calc_values)\n",
    "        \n",
    "        # self.anodes_ratings[anode_id] = clamp(avg)\n",
    "        self.anodes_ratings[anode_id] = avg\n",
    "                                              \n",
    "        return self.anode_error(anode_id)\n",
    "        \n",
    "    def anode_error(self,anode_id):\n",
    "        anode_data = self.adata[anode_id]\n",
    "        anode_value = self.anodes_ratings.get(anode_id,self.default_rating)\n",
    "        \n",
    "        calc_values = []\n",
    "        for bnode_id, w in anode_data.items():\n",
    "            bnode_value = self.bnodes_ratings.get(bnode_id,self.default_rating)\n",
    "            # calculated_w = clamp(self.wfun(anode_value,bnode_value))\n",
    "            calculated_w = self.wfun(anode_value,bnode_value)\n",
    "            # error = clamp(self.error_fun(calculated_w,w))\n",
    "            error = self.error_fun(calculated_w,w)\n",
    "            calc_values.append(error)\n",
    "            \n",
    "        return self.error_aggregation_fun(calc_values)\n",
    "    \n",
    "    def bcycle(self):\n",
    "        for bnode_id in self.bnodes_ratings:\n",
    "            if bnode_id in self.bdata:\n",
    "                self.bnode_process(bnode_id)                \n",
    "    \n",
    "    def bnode_process(self,bnode_id):\n",
    "        bnode_data = self.bdata[bnode_id]\n",
    "        \n",
    "        calc_values = []\n",
    "        for anode_id, w in bnode_data.items():\n",
    "            anode_value = self.anodes_ratings.get(anode_id,self.default_rating)\n",
    "            # bsum += clamp(self.bfun(anode_value,w))\n",
    "            calc_values.append(self.bfun(anode_value,w))\n",
    "        \n",
    "        avg = self.aggregation_fun(calc_values)\n",
    "        \n",
    "        # self.bnodes_ratings[bnode_id] = clamp(avg)\n",
    "        self.bnodes_ratings[bnode_id] = avg\n",
    "    \n",
    "    def save_last(self):\n",
    "        self.last_anodes_ratings = self.anodes_ratings\n",
    "        self.last_bnodes_ratings = self.bnodes_ratings\n",
    "        self.last_average_error = self.average_error\n",
    "        \n",
    "    def restore_last(self):\n",
    "        self.anodes_ratings = self.last_anodes_ratings\n",
    "        self.bnodes_ratings = self.last_bnodes_ratings\n",
    "        self.average_error = self.last_average_error\n",
    "    \n",
    "    def iterate(self):\n",
    "        self.save_last()\n",
    "        \n",
    "        self.bcycle()\n",
    "        self.acycle()\n",
    "        \n",
    "        self.iter += 1        \n",
    "        print(f\"Iteration {self.iter}, Average error: {self.average_error}\")         \n",
    "        \n",
    "    def run(self):\n",
    "        while (self.iter <= self.max_iter):            \n",
    "            self.iterate()\n",
    "            \n",
    "            # Finish early with previous result if error went up\n",
    "            if self.finish_early and (self.average_error > self.last_average_error):\n",
    "                self.restore_last()\n",
    "                print(f\"Finishing early due to increased average error. Restoring previous values.\")\n",
    "                break\n",
    "                \n",
    "            # Finish if the error did not change by more than the error_change_prop\n",
    "            if self.last_average_error != math.inf:\n",
    "                abs_error_change = abs(self.average_error - self.last_average_error)\n",
    "                if (abs_error_change / self.last_average_error) < self.error_change_prop:\n",
    "                    print(f\"Finishing due to change in average error less than {self.error_change_prop} (proportional)\")\n",
    "                    break\n",
    "                \n",
    "        return (self.anodes_ratings,self.bnodes_ratings)\n",
    "    \n",
    "    def measure_error(self,wdata_test):\n",
    "        calc_values = []\n",
    "        for anode_id in wdata_test:\n",
    "            calc_values.append(self.test_node_error(wdata_test,anode_id))\n",
    "            \n",
    "        test_average_error = self.error_aggregation_fun(calc_values)\n",
    "        \n",
    "        return test_average_error\n",
    "        \n",
    "    def test_node_error(self,wdata_test,anode_id):\n",
    "        anode_data = wdata_test[anode_id]\n",
    "        anode_value = self.anodes_ratings.get(anode_id,self.default_rating)\n",
    "        \n",
    "        calc_values = []\n",
    "        for bnode_id, w in anode_data.items():\n",
    "            bnode_value = self.bnodes_ratings.get(bnode_id,self.default_rating)\n",
    "            # calculated_w = clamp(self.wfun(anode_value,bnode_value))\n",
    "            calculated_w = self.wfun(anode_value,bnode_value)\n",
    "            # error = clamp(self.error_fun(calculated_w,w))\n",
    "            error = self.error_fun(calculated_w,w)\n",
    "            calc_values.append(error)\n",
    "            \n",
    "        return self.error_aggregation_fun(calc_values)\n",
    "        \n",
    "    \n",
    "    def test(self):\n",
    "        return"
   ]
  },
  {
   "cell_type": "code",
   "execution_count": 19,
   "id": "5ff8f939",
   "metadata": {},
   "outputs": [],
   "source": [
    "#scores_doubly_indexed = {map_id : {player_id : clamp(lognorm_value(scores_by_map_id[map_id][player_id][\"accuracy\"])) for player_id in scores_by_map_id[map_id]} for map_id in scores_by_map_id}\n",
    "scores_doubly_indexed = {map_id : {player_id : truncexp_value(modified_score(scores_by_map_id[map_id][player_id][\"accuracy\"],scores_by_map_id[map_id][player_id][\"modifiers\"])) for player_id in scores_by_map_id[map_id]} for map_id in scores_by_map_id}"
   ]
  },
  {
   "cell_type": "code",
   "execution_count": 65,
   "id": "2cfed193",
   "metadata": {},
   "outputs": [],
   "source": [
    "test_set_size = 0.2\n",
    "\n",
    "scores_doubly_indexed_training_items, scores_doubly_indexed_test_items = sklearn.model_selection.train_test_split(list(scores_doubly_indexed.items()),test_size=test_set_size)\n",
    "scores_doubly_indexed_training = dict(scores_doubly_indexed_training_items)\n",
    "scores_doubly_indexed_test = dict(scores_doubly_indexed_test_items)"
   ]
  },
  {
   "cell_type": "code",
   "execution_count": 74,
   "id": "79980006",
   "metadata": {},
   "outputs": [
    {
     "name": "stdout",
     "output_type": "stream",
     "text": [
      "Iteration 1, Average error: 0.1688684366864006\n",
      "Iteration 2, Average error: 0.1313656729784262\n",
      "Iteration 3, Average error: 0.1263274060276248\n",
      "Iteration 4, Average error: 0.12732447721863638\n",
      "Iteration 5, Average error: 0.12927804445580648\n",
      "Iteration 6, Average error: 0.1310664424220803\n",
      "Iteration 7, Average error: 0.1324905372060132\n",
      "Iteration 8, Average error: 0.133562785256775\n",
      "Iteration 9, Average error: 0.1343596604091077\n",
      "Iteration 10, Average error: 0.13494814314198314\n",
      "Iteration 11, Average error: 0.13538413845044528\n",
      "Iteration 12, Average error: 0.13570695164603364\n",
      "Iteration 13, Average error: 0.13594641562210566\n",
      "Iteration 14, Average error: 0.13612362770272193\n",
      "Iteration 15, Average error: 0.1362547643585967\n",
      "Finishing due to change in average error less than 0.001 (proportional)\n"
     ]
    }
   ],
   "source": [
    "#default_rating = 7\n",
    "default_rating = 10\n",
    "\n",
    "map_ratings = {map_id : default_rating for map_id in scores_by_map_id}\n",
    "player_ratings = {player_id: default_rating for player_id in scores_by_player_id}\n",
    "\n",
    "# aggregation_fun = aggregation_median_f(default_rating)\n",
    "aggregation_topscores_p = 0.25\n",
    "error_aggregation_bottomscores_p = 0.5\n",
    "aggregation_fun = aggregation_topscores_f(aggregation_topscores_p,default_rating)\n",
    "error_aggregation_fun=aggregation_bottomscores_f(error_aggregation_bottomscores_p,0)\n",
    "\n",
    "#bps = BiPartiteStabilizer(map_ratings,player_ratings,scores_doubly_indexed,\n",
    "bps = BiPartiteStabilizer(map_ratings,player_ratings,scores_doubly_indexed_training,\n",
    "                          accability_linear,skill_linear,score_linear,\n",
    "                          aggregation_fun=aggregation_fun,\n",
    "                          default_rating = default_rating,\n",
    "                          error_aggregation_fun=error_aggregation_fun,\n",
    "                          max_iter=500,\n",
    "                          finish_early=False,\n",
    "                          error_change_prop=0.001)\n",
    "\n",
    "#bps.iterate()\n",
    "#(maps_1,players_1) = (copy.deepcopy(bps.anodes_ratings), copy.deepcopy(bps.bnodes_ratings))\n",
    "#maps_1_errors = {key:bps.anode_error(key) for key in maps_1}\n",
    "#bps.iterate()\n",
    "#(maps_2,players_2) = (copy.deepcopy(bps.anodes_ratings), copy.deepcopy(bps.bnodes_ratings))\n",
    "\n",
    "(map_ratings,player_ratings) = bps.run()"
   ]
  },
  {
   "cell_type": "code",
   "execution_count": 75,
   "id": "5be7a716",
   "metadata": {},
   "outputs": [
    {
     "name": "stdout",
     "output_type": "stream",
     "text": [
      "0.14514429911720494\n"
     ]
    }
   ],
   "source": [
    "print(bps.measure_error(scores_doubly_indexed_test))"
   ]
  },
  {
   "cell_type": "code",
   "execution_count": null,
   "id": "152db0f1",
   "metadata": {},
   "outputs": [],
   "source": [
    "maps_1_errors_outliers = {map_id:error for (map_id,error) in maps_1_errors.items() if error > 500}\n",
    "print(maps_1_errors_outliers)"
   ]
  },
  {
   "cell_type": "code",
   "execution_count": null,
   "id": "b17da459",
   "metadata": {},
   "outputs": [],
   "source": [
    "def errors_in_map(map_id,map_ratings,player_ratings):\n",
    "    result = {}\n",
    "    map_rating = map_ratings[map_id]\n",
    "    for player_id,score in scores_doubly_indexed[map_id].items():\n",
    "        player_rating = player_ratings[player_id]\n",
    "        calculated_w = bps.wfun(map_rating,player_rating)\n",
    "        error = bps.error_fun(calculated_w,score)\n",
    "        result[player_id] = {\"calculated_w\":calculated_w,\"actual_score\":score,\"error\":error}\n",
    "        \n",
    "    return result"
   ]
  },
  {
   "cell_type": "code",
   "execution_count": null,
   "id": "07b78653",
   "metadata": {},
   "outputs": [],
   "source": [
    "errors_this_map = errors_in_map(\"1442791\",maps_1,players_1)\n",
    "error_outliers = {player_id:error for (player_id,error) in errors_this_map.items() if error[\"error\"] < 1}\n",
    "print(error_outliers)"
   ]
  },
  {
   "cell_type": "code",
   "execution_count": null,
   "id": "a38deb4f",
   "metadata": {},
   "outputs": [],
   "source": [
    "scores_by_map_id[\"2c803x91\"][\"76561198279631500\"]"
   ]
  },
  {
   "cell_type": "code",
   "execution_count": null,
   "id": "5bff2647",
   "metadata": {},
   "outputs": [],
   "source": [
    "hard_maps = {map_id : rating for (map_id,rating) in maps_1.items() if rating < 2}\n",
    "print(hard_maps)"
   ]
  },
  {
   "cell_type": "code",
   "execution_count": null,
   "id": "7bb8e1a9",
   "metadata": {},
   "outputs": [],
   "source": []
  },
  {
   "cell_type": "code",
   "execution_count": 44,
   "id": "a1bf863d",
   "metadata": {},
   "outputs": [],
   "source": [
    "map_outliers = {map_id : rating for (map_id,rating) in map_ratings.items() if rating < 3}\n",
    "player_outliers = {player_id : rating for (player_id,rating) in player_ratings.items() if rating > 30}"
   ]
  },
  {
   "cell_type": "code",
   "execution_count": 45,
   "id": "95cec50b",
   "metadata": {},
   "outputs": [
    {
     "name": "stdout",
     "output_type": "stream",
     "text": [
      "{'3aa79xxxxxxxxx91': 2.9983917108433134}\n",
      "{'3225556157461414': 33.171761349303125, '76561198153101808': 30.003939384760965, '76561198180044686': 31.456065397390393, '1922350521131465': 36.814033827785586, '76561198960449289': 30.20899468238246, '2169974796454690': 32.43384207023366, '76561198988695829': 33.78586499399944, '76561199104169308': 31.669039542578826, '76561199085118735': 30.972847109127706, '2085408448198355': 30.172603258615307, '76561198166061709': 33.45126583852632, '2769016623220259': 30.502264978763137, '76561198404774259': 32.52203161393578, '76561198313983208': 30.243132586166997, '76561198027277296': 30.902036435207542, '76561198333869741': 31.790193224184744, '76561199465530115': 31.61019030869898}\n"
     ]
    }
   ],
   "source": [
    "print(map_outliers)\n",
    "print(player_outliers)"
   ]
  },
  {
   "cell_type": "code",
   "execution_count": 48,
   "id": "f15290bc",
   "metadata": {},
   "outputs": [
    {
     "name": "stdout",
     "output_type": "stream",
     "text": [
      "{'2dd6cxx92': 3.429056313784843, '36bce91': 3.459483467311768, '3442cxxx91': 3.4613813138465224, '100991': 3.495069364992336, '3697axxxx91': 3.142978265451161, '3aa79xxxxxxxxx91': 2.9983917108433134, '2c803x91': 3.24554357595033, '3b2bcxxxx91': 3.0955528094955755, '387a0xxxx91': 3.10844027959186}\n"
     ]
    }
   ],
   "source": [
    "hard_maps = {map_id : rating for (map_id,rating) in map_ratings.items() if rating < 3.5}\n",
    "print(hard_maps)"
   ]
  },
  {
   "cell_type": "code",
   "execution_count": 49,
   "id": "9f8d98bd",
   "metadata": {},
   "outputs": [
    {
     "name": "stdout",
     "output_type": "stream",
     "text": [
      "{'37090x11': 26.395957859123858, '2713cx11': 25.41289796756997, '2a57111': 30.637709200160515, '33bd7xxxx11': 26.158319175785387, '3bb99x11': 28.557325769783343, '1e0b511': 26.79123865958854, '7e8f11': 31.013547175227338, '7a631': 25.666838990473547, 'd90a11': 26.899847909811}\n"
     ]
    }
   ],
   "source": [
    "easy_maps = {map_id : rating for (map_id,rating) in map_ratings.items() if rating > 25}\n",
    "print(easy_maps)"
   ]
  },
  {
   "cell_type": "code",
   "execution_count": 50,
   "id": "5bc03718",
   "metadata": {},
   "outputs": [
    {
     "name": "stdout",
     "output_type": "stream",
     "text": [
      "{'3225556157461414': 33.171761349303125, '76561198153101808': 30.003939384760965, '76561198180044686': 31.456065397390393, '1922350521131465': 36.814033827785586, '76561198960449289': 30.20899468238246, '2169974796454690': 32.43384207023366, '76561198988695829': 33.78586499399944, '76561199104169308': 31.669039542578826, '76561199085118735': 30.972847109127706, '2085408448198355': 30.172603258615307, '76561198166061709': 33.45126583852632, '2769016623220259': 30.502264978763137, '76561198404774259': 32.52203161393578, '76561198313983208': 30.243132586166997, '76561198027277296': 30.902036435207542, '76561198333869741': 31.790193224184744, '76561199465530115': 31.61019030869898}\n"
     ]
    }
   ],
   "source": [
    "good_players = {player_id : rating for (player_id,rating) in player_ratings.items() if rating > 30}\n",
    "print(good_players)"
   ]
  },
  {
   "cell_type": "code",
   "execution_count": null,
   "id": "2f975fc7",
   "metadata": {},
   "outputs": [],
   "source": []
  },
  {
   "cell_type": "code",
   "execution_count": 59,
   "id": "01c3d236",
   "metadata": {},
   "outputs": [
    {
     "name": "stdout",
     "output_type": "stream",
     "text": [
      "{'name': 'oermergeesh', 'country': 'US', 'id': '1922350521131465', 'avatar': 'https://cdn.assets.beatleader.xyz/1922350521131465R43.png'}\n"
     ]
    }
   ],
   "source": [
    "#print(scores_doubly_indexed[\"7e8f11\"])\n",
    "#print(maps_by_id[\"100991\"])\n",
    "print(players_by_id[\"1922350521131465\"])"
   ]
  },
  {
   "cell_type": "code",
   "execution_count": null,
   "id": "c7440d2f",
   "metadata": {},
   "outputs": [],
   "source": [
    "print(player_ratings[\"76561199108348236\"])"
   ]
  },
  {
   "cell_type": "code",
   "execution_count": null,
   "id": "f925687a",
   "metadata": {},
   "outputs": [],
   "source": [
    "print(scores_by_player_id[\"76561199108348236\"])"
   ]
  },
  {
   "cell_type": "code",
   "execution_count": null,
   "id": "7aa814de",
   "metadata": {},
   "outputs": [],
   "source": [
    "print(map_ratings[\"38419x92\"])"
   ]
  },
  {
   "cell_type": "code",
   "execution_count": null,
   "id": "d7c686a5",
   "metadata": {},
   "outputs": [],
   "source": [
    "filtered_map_ratings = {map_id : rating for (map_id,rating) in map_ratings.items() if rating < 3.69 and rating > 3.68}\n",
    "print(filtered_map_ratings)"
   ]
  },
  {
   "cell_type": "code",
   "execution_count": null,
   "id": "e9807b39",
   "metadata": {},
   "outputs": [],
   "source": [
    "print(len(scores))\n",
    "print(len(filtered_scores))"
   ]
  },
  {
   "cell_type": "code",
   "execution_count": null,
   "id": "9685243d",
   "metadata": {},
   "outputs": [],
   "source": [
    "print(scores_by_player_id[\"76561198167588802\"])"
   ]
  },
  {
   "cell_type": "code",
   "execution_count": null,
   "id": "66781999",
   "metadata": {},
   "outputs": [],
   "source": [
    "print(truncexp_value(0.94))\n",
    "print(perc_truncexp_value(12))"
   ]
  },
  {
   "cell_type": "code",
   "execution_count": null,
   "id": "3f71f138",
   "metadata": {},
   "outputs": [],
   "source": [
    "print(skill_probspace_truncexp(0,25))"
   ]
  },
  {
   "cell_type": "code",
   "execution_count": null,
   "id": "e0e405df",
   "metadata": {},
   "outputs": [],
   "source": [
    "print(score_probspace_truncexp(68,68))"
   ]
  },
  {
   "cell_type": "code",
   "execution_count": null,
   "id": "e30dc03a",
   "metadata": {},
   "outputs": [],
   "source": [
    "print(skill_linear(1,25))"
   ]
  },
  {
   "cell_type": "code",
   "execution_count": null,
   "id": "73b6f1c7",
   "metadata": {},
   "outputs": [],
   "source": [
    "print(aggregation_topscores([1,2,3,4,5,6,7,8,9,10,11,12,13,14,100]))"
   ]
  },
  {
   "cell_type": "code",
   "execution_count": null,
   "id": "4f3f8f2c",
   "metadata": {},
   "outputs": [],
   "source": [
    "[1,2,3,4][0:2]"
   ]
  },
  {
   "cell_type": "code",
   "execution_count": null,
   "id": "b16415e9",
   "metadata": {},
   "outputs": [],
   "source": [
    "a = [3,1,2,4]\n",
    "a.sort()\n",
    "print(a)"
   ]
  },
  {
   "cell_type": "code",
   "execution_count": null,
   "id": "636a2d45",
   "metadata": {},
   "outputs": [],
   "source": [
    "error_aggregation_fun([0.1,0.2,0.3,0.4,100])"
   ]
  },
  {
   "cell_type": "code",
   "execution_count": null,
   "id": "f887fe02",
   "metadata": {},
   "outputs": [],
   "source": [
    "modified_scores = [score for score in scores if score[\"modifiers\"] != \"\" and score[\"accuracy\"] < 100]"
   ]
  },
  {
   "cell_type": "code",
   "execution_count": null,
   "id": "57c4f742",
   "metadata": {},
   "outputs": [],
   "source": [
    "modifier_combos = set([score[\"modifiers\"] for score in modified_scores])\n",
    "print(modifier_combos)"
   ]
  },
  {
   "cell_type": "code",
   "execution_count": null,
   "id": "207247a9",
   "metadata": {},
   "outputs": [],
   "source": [
    "print(modified_score(0.95,\"DA,SF,NO\"))"
   ]
  },
  {
   "cell_type": "code",
   "execution_count": null,
   "id": "e7fbeb4e",
   "metadata": {},
   "outputs": [],
   "source": [
    "modifiers = [\"SF\",\"GN\",\"SA\",\"PM\",\"IF\",\"NO\",\"BE\",\"SS\",\"FS\",\"NB\",\"SC\",\"OD\",\"DA\",\"CS\",\"NA\",\"OP\"]\n",
    "remaining_modifier_combos = modifier_combos\n",
    "for modifier in modifiers:\n",
    "    remaining_modifier_combos = [modifier_combo.replace(modifier+\",\",\"\") for modifier_combo in remaining_modifier_combos]\n",
    "    remaining_modifier_combos = [modifier_combo.replace(modifier,\"\") for modifier_combo in remaining_modifier_combos]\n",
    "    remaining_modifier_combos = set(remaining_modifier_combos)    \n",
    "    if \"\" in remaining_modifier_combos:\n",
    "        remaining_modifier_combos.remove(\"\")    \n",
    "    \n",
    "print(remaining_modifier_combos)"
   ]
  },
  {
   "cell_type": "code",
   "execution_count": null,
   "id": "cc989883",
   "metadata": {},
   "outputs": [],
   "source": []
  },
  {
   "cell_type": "code",
   "execution_count": null,
   "id": "19607f14",
   "metadata": {},
   "outputs": [],
   "source": []
  }
 ],
 "metadata": {
  "kernelspec": {
   "display_name": "Python 3 (ipykernel)",
   "language": "python",
   "name": "python3"
  },
  "language_info": {
   "codemirror_mode": {
    "name": "ipython",
    "version": 3
   },
   "file_extension": ".py",
   "mimetype": "text/x-python",
   "name": "python",
   "nbconvert_exporter": "python",
   "pygments_lexer": "ipython3",
   "version": "3.9.13"
  }
 },
 "nbformat": 4,
 "nbformat_minor": 5
}
