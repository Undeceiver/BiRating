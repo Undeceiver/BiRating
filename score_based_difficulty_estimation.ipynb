{
 "cells": [
  {
   "cell_type": "code",
   "execution_count": 344,
   "id": "53293fa3",
   "metadata": {},
   "outputs": [],
   "source": [
    "import copy\n",
    "import json\n",
    "import math\n",
    "import scipy"
   ]
  },
  {
   "cell_type": "code",
   "execution_count": 5,
   "id": "5e125001",
   "metadata": {},
   "outputs": [],
   "source": [
    "ranked_data_path = f\"bigresponse.json\"\n",
    "ranked_data_file = open(ranked_data_path,encoding=\"utf-8\")\n",
    "ranked_data = json.load(ranked_data_file)"
   ]
  },
  {
   "cell_type": "code",
   "execution_count": 437,
   "id": "8d496ace",
   "metadata": {},
   "outputs": [],
   "source": [
    "players = ranked_data[\"players\"]\n",
    "maps = ranked_data[\"maps\"]\n",
    "scores = ranked_data[\"scores\"]\n",
    "filtered_scores = [score for score in scores if score[\"modifiers\"] == \"\" and score[\"accuracy\"] != 100]\n",
    "# SHOULD FILTER TO SCORES WITH NO MODIFIERS AND/OR REWEIGHT THE SCORES"
   ]
  },
  {
   "cell_type": "code",
   "execution_count": 27,
   "id": "2b8009f3",
   "metadata": {},
   "outputs": [],
   "source": [
    "players_by_id = {player[\"id\"] : player for player in players}\n",
    "maps_by_id = {bmap[\"id\"] : bmap for bmap in maps}"
   ]
  },
  {
   "cell_type": "code",
   "execution_count": 438,
   "id": "69c304d4",
   "metadata": {},
   "outputs": [],
   "source": [
    "scores_by_player_id = {}\n",
    "scores_by_map_id = {}\n",
    "\n",
    "def add_score(score):\n",
    "    player_id = score[\"playerId\"]\n",
    "    map_id = score[\"leaderboardId\"]\n",
    "    \n",
    "    player_map = scores_by_player_id.get(player_id,{})\n",
    "    player_map[map_id] = score\n",
    "    \n",
    "    scores_by_player_id[player_id] = player_map\n",
    "    \n",
    "    map_map = scores_by_map_id.get(map_id,{})\n",
    "    map_map[player_id] = score\n",
    "    \n",
    "    scores_by_map_id[map_id] = map_map\n",
    "    \n",
    "#for score in scores:\n",
    "for score in filtered_scores:\n",
    "    add_score(score)"
   ]
  },
  {
   "cell_type": "code",
   "execution_count": 435,
   "id": "843cdef0",
   "metadata": {},
   "outputs": [],
   "source": [
    "def clamp(v,vmin=0,vmax=30):\n",
    "    return min(max(v,vmin),vmax)"
   ]
  },
  {
   "cell_type": "code",
   "execution_count": 74,
   "id": "9fcf72db",
   "metadata": {},
   "outputs": [],
   "source": [
    "linear_value_max = 10000\n",
    "def linear_value(perc_value):\n",
    "    \"\"\"\n",
    "    Turn [0,1) score into a more linear scale, to some degree. Just an approximation.\n",
    "    Reducing distance from 100% by a certain proportion increases the linear score by that same proportion.\n",
    "    \"\"\"\n",
    "    if (perc_value >= ((linear_value_max-1)/linear_value_max)):\n",
    "        return linear_value_max\n",
    "    \n",
    "    if (perc_value <= 0):\n",
    "        return 1\n",
    "    \n",
    "    return 1/(1-perc_value)\n",
    "\n",
    "# Inverse of the above.\n",
    "def perc_value(value):\n",
    "    return (value-1)/value"
   ]
  },
  {
   "cell_type": "code",
   "execution_count": 263,
   "id": "0b3fc957",
   "metadata": {},
   "outputs": [],
   "source": [
    "\"\"\"\n",
    "THE ARGUMENT BELOW IS WRONG IN THAT I DO NOT WANT (-inf,inf) BUT (0,inf), BUT I'M KEEPING IT FOR REFERENCE.\n",
    "SEE BELOW FOR FIXING IT.\n",
    "\n",
    "The issue with the above is the minimum value of 1. Ideally, I want to map (0,1) to (-inf,inf).\n",
    "This is exactly what quantile functions do. So I can try some quantile functions that make sense.\n",
    "(Renormalized) logit makes sense because sigmoid behaviours make some sense.\n",
    "But perhaps what makes even more sense is probit because it's the quantile function of the normal distribution.\n",
    "It makes sense to think of players, accability, and scores as normally distributed after re-scaling.\n",
    "\n",
    "However, we need to find an adequate mean and standard deviation for this. Ideally, we set a percentage value\n",
    "that is \"standard\" and a distance (in one direction) that is \"about the standard deviation\", and calculate\n",
    "the reverse values backwards.\n",
    "\n",
    "THIS PART IS ACCURATE, THOUGH.\n",
    "\n",
    "But note that this is a mapping on the probability space rather than the population space.\n",
    "That is, from (0,1) to (0,1). A probability distribution on the (0,1) interval.\n",
    "We can do this with the Beta distribution, though other distributions might work.\n",
    "\n",
    "I approximate a value for alpha and beta using this: https://homepage.divms.uiowa.edu/~mbognar/applets/beta.html\n",
    "Trying to get the median around 0.9 and the probability close to 0 for 0.5, but a little bit higher for 0.65ish.\n",
    "Beat Saber scores are typically at least 65%, on median probably around 0.9. They also must go down as the value\n",
    "approaches 1, so beta must be greater than 1.\n",
    "\n",
    "alpha = 10 and beta = 1.25 seemed to work quite well.\n",
    "\"\"\"\n",
    "beta_alpha = 10\n",
    "beta_beta = 1.25\n",
    "\n",
    "def beta_value(perc_value, beta_alpha=beta_alpha, beta_beta=beta_beta):\n",
    "    return scipy.stats.beta.cdf(perc_value, beta_alpha, beta_beta)\n",
    "\n",
    "def perc_beta_value(beta_value,beta_alpha=beta_alpha, beta_beta=beta_beta):\n",
    "    return scipy.stats.beta.ppf(beta_value, beta_alpha, beta_beta)\n",
    "\n",
    "\"\"\"\n",
    "After renormalizing with the beta distribution, we apply the probit value, which assumes it's centred around 0.5.\n",
    "\n",
    "We renormalize this to a value that is more typical of what we usually understand in Beat Saber.\n",
    "For example, similar to star values. This is not really meant to be accurate, though.\n",
    "\"\"\"\n",
    "\n",
    "probit_mean = 7\n",
    "probit_sd = 3\n",
    "\n",
    "def probit_value(perc_value, probit_mean=probit_mean, probit_sd = probit_sd):\n",
    "    return scipy.stats.norm.ppf(beta_value(perc_value),loc=probit_mean,scale=probit_sd)\n",
    "\n",
    "def perc_probit_value(probit_value, probit_mean=probit_mean, probit_sd = probit_sd):\n",
    "    return perc_beta_value(scipy.stats.norm.cdf(probit_value,loc=probit_mean,scale=probit_sd))"
   ]
  },
  {
   "cell_type": "code",
   "execution_count": 264,
   "id": "81d98c9b",
   "metadata": {},
   "outputs": [],
   "source": [
    "\"\"\"\n",
    "We take the beta renormalization of probabilities above, and instead of using a probit function,\n",
    "we map it to (0,inf) using a lognorm distribution.\n",
    "\n",
    "There isn't a strong justification for this (other than the support), but there are some arguments.\n",
    "What we want is to transform the probabilities into positive values that we can then multiply and divide in a way\n",
    "that behaves well. Multiplying two values in the lognorm support produces a new lognorm value that is\n",
    "the result of combining the other two in an independent way.\n",
    "The shape of the lognorm also matches the way that we expect these values to look.\n",
    "\"\"\"\n",
    "\n",
    "# This parameterization is NOT a mistake. Read up on lognorm parameters and try to figure out why I did this.\n",
    "# It isn't something terribly meaningful.\n",
    "lognorm_mean = 7\n",
    "lognorm_sd = 7\n",
    "log_lognorm_sd = math.log(math.log(lognorm_sd))\n",
    "\n",
    "def lognorm_value(perc_value, lognorm_mean=lognorm_mean, lognorm_sd=lognorm_sd, log_lognorm_sd=log_lognorm_sd):\n",
    "    return scipy.stats.lognorm.ppf(beta_value(perc_value),s=log_lognorm_sd,loc=0,scale=lognorm_mean)\n",
    "\n",
    "def perc_lognorm_value(lognorm_value, lognorm_mean=lognorm_mean, lognorm_sd=lognorm_sd, log_lognorm_sd=log_lognorm_sd):\n",
    "    return perc_beta_value(scipy.stats.lognorm.cdf(lognorm_value,s=log_lognorm_sd,loc=0,scale=lognorm_mean))"
   ]
  },
  {
   "cell_type": "code",
   "execution_count": 380,
   "id": "960238b1",
   "metadata": {},
   "outputs": [],
   "source": [
    "\"\"\"\n",
    "From here onwards we assume score is linearized by using linear_score above.\n",
    "\n",
    "We normalize around a value of 7.\n",
    "This means that a X star player on a 7 accability map achieves an X star score\n",
    "and a 7 star player on an X accability map achieves an X star score.\n",
    "\"\"\"\n",
    "\n",
    "linear_mean = 7\n",
    "min_value = 0.00001\n",
    "\n",
    "def score_linear(skill,accability,linear_mean = linear_mean):\n",
    "    return skill * accability / linear_mean\n",
    "\n",
    "def accability_linear(skill,score,linear_mean = linear_mean):\n",
    "    if (skill < min_value):\n",
    "        vskill = min_value\n",
    "    else:\n",
    "        vskill = skill\n",
    "    return score / vskill * linear_mean\n",
    "\n",
    "def skill_linear(accability,score,linear_mean = linear_mean):\n",
    "    if (accability < min_value):\n",
    "        vaccability = min_value\n",
    "    else:\n",
    "        vaccability = accability\n",
    "    return score / vaccability * linear_mean"
   ]
  },
  {
   "cell_type": "code",
   "execution_count": 102,
   "id": "7f132242",
   "metadata": {},
   "outputs": [],
   "source": [
    "\"\"\"\n",
    "The main idea here is that the score of a player with skill level x on a map with accability x will be x.\n",
    "In other words, the skill and accability are on the same scale as the score.\n",
    "A player with skill level x will obtain score x on a map of their corresponding accability. Etc.\n",
    "\n",
    "PROBLEMS:\n",
    "The idea is misconstrued. Better players shine at less accable maps, so the equalization is to a large degree fake,\n",
    "meaning the scaling is broken.\n",
    "\"\"\"\n",
    "def score_equalized(skill,accability):\n",
    "    return math.sqrt(skill * accability)\n",
    "\n",
    "def accability_equalized(skill,score):\n",
    "    return score*score / skill\n",
    "\n",
    "def skill_linear(accability,score):\n",
    "    return score*score / accability"
   ]
  },
  {
   "cell_type": "code",
   "execution_count": 379,
   "id": "7509b56d",
   "metadata": {},
   "outputs": [],
   "source": [
    "def abs_prop_error(value,evalue):        \n",
    "    if (value == 0):\n",
    "        vvalue = 0.0001\n",
    "    else:\n",
    "        vvalue = value\n",
    "    return abs((vvalue-evalue)/vvalue)"
   ]
  },
  {
   "cell_type": "code",
   "execution_count": 439,
   "id": "903f8e51",
   "metadata": {},
   "outputs": [],
   "source": [
    "class BiPartiteStabilizer:\n",
    "    \"\"\"No description yet\"\"\"\n",
    "    \n",
    "    def __init__(self,anodes_ratings,bnodes_ratings,wdata,afun,bfun,wfun,default_rating=1,max_iter=50,error_fun=abs_prop_error):\n",
    "        \"\"\"\n",
    "        anodes_ratings and bnodes_ratings must be dictionaries with the node identifiers as keys\n",
    "        and initial ratings as values.\n",
    "        \n",
    "        wdata must be a doubly indexed dictionary with anode identifiers and bnode identifiers as respective indexes,\n",
    "        respectively, and weights as values.\n",
    "        \n",
    "        afun and bfun must be functions taking a value of the other node type as first argument\n",
    "        and a weight as the second argument, that returns the corresponding value for the node.\n",
    "        \n",
    "        Similarly, wfun must be a function that takes the value of an anode and bnode and returns the\n",
    "        correct weight.\n",
    "        \n",
    "        These functions must be such that:\n",
    "        - wfun(afun(b,w),b) = w\n",
    "        - wfun(a,bfun(a,w)) = w\n",
    "        - afun(bfun(a,w),w) = a\n",
    "        - afun(b,wfun(a,b)) = a\n",
    "        - bfun(afun(b,w),w) = b\n",
    "        - bfun(a,wfun(a,b)) = b\n",
    "        \n",
    "        error_fun must take two parameters (actual value, expected value) and return a number indicating the error for that\n",
    "        particular edge\n",
    "        \"\"\"\n",
    "        self.anodes_ratings = anodes_ratings\n",
    "        self.bnodes_ratings = bnodes_ratings\n",
    "        \n",
    "        self.adata = wdata\n",
    "        self.bdata = self.process_bdata(wdata)\n",
    "        \n",
    "        self.afun = afun\n",
    "        self.bfun = bfun\n",
    "        self.wfun = wfun\n",
    "        \n",
    "        self.error_fun = error_fun\n",
    "        \n",
    "        self.default_rating = default_rating\n",
    "        \n",
    "        self.average_error = math.inf\n",
    "        \n",
    "        self.iter = 0\n",
    "        self.max_iter = max_iter\n",
    "    \n",
    "    def process_bdata(self, wdata):\n",
    "        bdata = {}\n",
    "        \n",
    "        for anode_id, anode_data in wdata.items():\n",
    "            for bnode_id, w in anode_data.items():\n",
    "                bnode_data = bdata.get(bnode_id,{})\n",
    "                bnode_data[anode_id] = w\n",
    "                bdata[bnode_id] = bnode_data\n",
    "        \n",
    "        return bdata       \n",
    "        \n",
    "    def acycle(self):\n",
    "        aerror = 0\n",
    "        n = len(self.anodes_ratings)\n",
    "        for anode_id in self.anodes_ratings:\n",
    "            aerror += self.anode_process(anode_id)\n",
    "            \n",
    "        if (n > 0):\n",
    "            self.average_error = clamp(aerror/n)\n",
    "        else:\n",
    "            self.average_error = 0\n",
    "    \n",
    "    def anode_process(self,anode_id):\n",
    "        anode_data = self.adata[anode_id]\n",
    "        \n",
    "        asum = 0\n",
    "        n = len(anode_data)\n",
    "        for bnode_id, w in anode_data.items():\n",
    "            bnode_value = self.bnodes_ratings.get(bnode_id,self.default_rating)\n",
    "            asum += clamp(self.afun(bnode_value,w))\n",
    "        \n",
    "        if (n > 0):\n",
    "            avg = asum/n\n",
    "        else:\n",
    "            avg = 0\n",
    "        \n",
    "        self.anodes_ratings[anode_id] = clamp(avg)\n",
    "                                              \n",
    "        return self.anode_error(anode_id)\n",
    "        \n",
    "    def anode_error(self,anode_id):\n",
    "        anode_data = self.adata[anode_id]\n",
    "        anode_value = self.anodes_ratings.get(anode_id,self.default_rating)\n",
    "        \n",
    "        aerror = 0\n",
    "        n = len(anode_data)\n",
    "        for bnode_id, w in anode_data.items():\n",
    "            bnode_value = self.bnodes_ratings.get(bnode_id,self.default_rating)\n",
    "            calculated_w = clamp(self.wfun(anode_value,bnode_value))\n",
    "            error = clamp(self.error_fun(calculated_w,w))\n",
    "            aerror += error\n",
    "            \n",
    "        if (n > 0):\n",
    "            return clamp(aerror/n)\n",
    "        else:\n",
    "            return 0\n",
    "\n",
    "    def bcycle(self):\n",
    "        for bnode_id in self.bnodes_ratings:\n",
    "            self.bnode_process(bnode_id)\n",
    "    \n",
    "    def bnode_process(self,bnode_id):\n",
    "        bnode_data = self.bdata[bnode_id]\n",
    "        \n",
    "        bsum = 0\n",
    "        n = len(bnode_data)\n",
    "        for anode_id, w in bnode_data.items():\n",
    "            anode_value = self.anodes_ratings.get(anode_id,self.default_rating)\n",
    "            bsum += clamp(self.bfun(anode_value,w))\n",
    "        \n",
    "        if (n > 0):\n",
    "            avg = bsum/n\n",
    "        else:\n",
    "            avg = 0\n",
    "        \n",
    "        self.bnodes_ratings[bnode_id] = clamp(avg)\n",
    "    \n",
    "    def iterate(self):\n",
    "        self.bcycle()\n",
    "        self.acycle()\n",
    "        \n",
    "        self.iter += 1\n",
    "        \n",
    "        print(f\"Iteration {self.iter}, Average error: {self.average_error}\")\n",
    "        \n",
    "    def run(self):\n",
    "        while (self.iter <= self.max_iter):\n",
    "            self.iterate()\n",
    "        \n",
    "        return (self.anodes_ratings,self.bnodes_ratings)\n",
    "    \n",
    "    def test(self):\n",
    "        return"
   ]
  },
  {
   "cell_type": "code",
   "execution_count": 440,
   "id": "5ff8f939",
   "metadata": {},
   "outputs": [],
   "source": [
    "scores_doubly_indexed = {map_id : {player_id : clamp(lognorm_value(scores_by_map_id[map_id][player_id][\"accuracy\"])) for player_id in scores_by_map_id[map_id]} for map_id in scores_by_map_id}"
   ]
  },
  {
   "cell_type": "code",
   "execution_count": null,
   "id": "2cfed193",
   "metadata": {},
   "outputs": [],
   "source": []
  },
  {
   "cell_type": "code",
   "execution_count": 441,
   "id": "79980006",
   "metadata": {},
   "outputs": [
    {
     "name": "stdout",
     "output_type": "stream",
     "text": [
      "Iteration 1, Average error: 0.18907809734705544\n",
      "Iteration 2, Average error: 0.1699605772916541\n",
      "Iteration 3, Average error: 0.16513725817019004\n",
      "Iteration 4, Average error: 0.16384153536419413\n",
      "Iteration 5, Average error: 0.1635329070284382\n",
      "Iteration 6, Average error: 0.16349535768880627\n",
      "Iteration 7, Average error: 0.16352111991852028\n",
      "Iteration 8, Average error: 0.1635525845257522\n"
     ]
    }
   ],
   "source": [
    "default_rating = 7\n",
    "\n",
    "map_ratings = {map_id : default_rating for map_id in scores_by_map_id}\n",
    "player_ratings = {player_id: default_rating for player_id in scores_by_player_id}\n",
    "\n",
    "bps = BiPartiteStabilizer(map_ratings,player_ratings,scores_doubly_indexed,accability_linear,skill_linear,score_linear,max_iter=7)\n",
    "\n",
    "#bps.iterate()\n",
    "#(maps_1,players_1) = (copy.deepcopy(bps.anodes_ratings), copy.deepcopy(bps.bnodes_ratings))\n",
    "#bps.iterate()\n",
    "#(maps_2,players_2) = (copy.deepcopy(bps.anodes_ratings), copy.deepcopy(bps.bnodes_ratings))\n",
    "(map_ratings,player_ratings) = bps.run()"
   ]
  },
  {
   "cell_type": "code",
   "execution_count": 442,
   "id": "a1bf863d",
   "metadata": {},
   "outputs": [],
   "source": [
    "map_outliers = {map_id : rating for (map_id,rating) in map_ratings.items() if rating > 20}\n",
    "player_outliers = {player_id : rating for (player_id,rating) in player_ratings.items() if rating > 20}"
   ]
  },
  {
   "cell_type": "code",
   "execution_count": 443,
   "id": "95cec50b",
   "metadata": {},
   "outputs": [
    {
     "name": "stdout",
     "output_type": "stream",
     "text": [
      "{}\n",
      "{}\n"
     ]
    }
   ],
   "source": [
    "print(map_outliers)\n",
    "print(player_outliers)"
   ]
  },
  {
   "cell_type": "code",
   "execution_count": 444,
   "id": "f15290bc",
   "metadata": {},
   "outputs": [
    {
     "name": "stdout",
     "output_type": "stream",
     "text": [
      "{'3697axxxx91': 2.8624011062297696, '3aa79xxxxxxxxx91': 2.8031388612150603, '2c803x91': 2.8821235746592313, '3b2bcxxxx91': 2.9767392121042957}\n"
     ]
    }
   ],
   "source": [
    "hard_maps = {map_id : rating for (map_id,rating) in map_ratings.items() if rating < 3}\n",
    "print(hard_maps)"
   ]
  },
  {
   "cell_type": "code",
   "execution_count": 445,
   "id": "9f8d98bd",
   "metadata": {},
   "outputs": [
    {
     "name": "stdout",
     "output_type": "stream",
     "text": [
      "{'35d5bx51': 14.158341327679167, '2a57111': 14.977812110383827, '3bb99x11': 14.117199992125041, 'd90a11': 14.172726101941393}\n"
     ]
    }
   ],
   "source": [
    "easy_maps = {map_id : rating for (map_id,rating) in map_ratings.items() if rating > 14}\n",
    "print(easy_maps)"
   ]
  },
  {
   "cell_type": "code",
   "execution_count": 446,
   "id": "5bc03718",
   "metadata": {},
   "outputs": [
    {
     "name": "stdout",
     "output_type": "stream",
     "text": [
      "{'76561198988695829': 18.990135386663926, '76561199085118735': 18.717485485516477, '76561198166061709': 18.610395549466286, '2769016623220259': 18.254324153594656, '76561198404774259': 18.02911657143716, '76561198333869741': 18.52770458659781}\n"
     ]
    }
   ],
   "source": [
    "good_players = {player_id : rating for (player_id,rating) in player_ratings.items() if rating > 18}\n",
    "print(good_players)"
   ]
  },
  {
   "cell_type": "code",
   "execution_count": null,
   "id": "2f975fc7",
   "metadata": {},
   "outputs": [],
   "source": []
  },
  {
   "cell_type": "code",
   "execution_count": 482,
   "id": "01c3d236",
   "metadata": {},
   "outputs": [
    {
     "name": "stdout",
     "output_type": "stream",
     "text": [
      "{'hash': '7c9e0a7c523395c7ef9d79006b9d42dc6ab8b44a', 'name': 'Gleodream', 'id': '3aa79xxxxxxxxx91', 'songId': '3aa79xxxxxxxxx', 'modeName': 'Standard', 'difficultyName': 'ExpertPlus', 'accRating': 13.423407, 'passRating': 11.142719, 'techRating': 13.089587, 'predictedAcc': 0.9590463, 'modifiersRating': {'id': 1201606, 'fsPredictedAcc': 0.9549841, 'fsPassRating': 14.057323, 'fsAccRating': 14.010982, 'fsTechRating': 13.793677, 'fsStars': 16.892323, 'ssPredictedAcc': 0.9620437, 'ssPassRating': 9.337413, 'ssAccRating': 12.964377, 'ssTechRating': 12.825914, 'ssStars': 13.682217, 'sfPredictedAcc': 0.94866556, 'sfPassRating': 18.739632, 'sfAccRating': 14.878941, 'sfTechRating': 14.6978245, 'sfStars': 20.363726}}\n"
     ]
    }
   ],
   "source": [
    "#print(scores_doubly_indexed[\"7e8f11\"])\n",
    "print(maps_by_id[\"3aa79xxxxxxxxx91\"])\n",
    "#print(players_by_id[\"76561198333869741\"])"
   ]
  },
  {
   "cell_type": "code",
   "execution_count": 473,
   "id": "7aa814de",
   "metadata": {},
   "outputs": [
    {
     "name": "stdout",
     "output_type": "stream",
     "text": [
      "3.681517361588999\n"
     ]
    }
   ],
   "source": [
    "print(map_ratings[\"3b5a9xxxx92\"])"
   ]
  },
  {
   "cell_type": "code",
   "execution_count": 474,
   "id": "d7c686a5",
   "metadata": {},
   "outputs": [
    {
     "name": "stdout",
     "output_type": "stream",
     "text": [
      "{'340c0xxxxx91': 3.684381639202773, '1b49e91': 3.6856939849638377, '3b5a9xxxx92': 3.681517361588999}\n"
     ]
    }
   ],
   "source": [
    "filtered_map_ratings = {map_id : rating for (map_id,rating) in map_ratings.items() if rating < 3.69 and rating > 3.68}\n",
    "print(filtered_map_ratings)"
   ]
  },
  {
   "cell_type": "code",
   "execution_count": null,
   "id": "e9807b39",
   "metadata": {},
   "outputs": [],
   "source": []
  }
 ],
 "metadata": {
  "kernelspec": {
   "display_name": "Python 3 (ipykernel)",
   "language": "python",
   "name": "python3"
  },
  "language_info": {
   "codemirror_mode": {
    "name": "ipython",
    "version": 3
   },
   "file_extension": ".py",
   "mimetype": "text/x-python",
   "name": "python",
   "nbconvert_exporter": "python",
   "pygments_lexer": "ipython3",
   "version": "3.9.13"
  }
 },
 "nbformat": 4,
 "nbformat_minor": 5
}
